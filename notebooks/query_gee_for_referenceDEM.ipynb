{
 "cells": [
  {
   "cell_type": "markdown",
   "id": "9fb7a339-be26-4f3d-b899-de0b9df80f1f",
   "metadata": {},
   "source": [
    "# Query Google Earth Engine (GEE) for COPDEM and coregister with output DEM"
   ]
  },
  {
   "cell_type": "code",
   "execution_count": null,
   "id": "482473c0-6260-425b-bc28-e9527a7e4b43",
   "metadata": {},
   "outputs": [],
   "source": [
    "import os\n",
    "import glob\n",
    "import ee\n",
    "import sys"
   ]
  },
  {
   "cell_type": "markdown",
   "id": "f283e218-d319-4fe4-a0ec-756ca4b4b808",
   "metadata": {},
   "source": [
    "## Define input and output files"
   ]
  },
  {
   "cell_type": "code",
   "execution_count": null,
   "id": "b3da9aa8-5f2a-41a3-8ee9-92805447c1fe",
   "metadata": {},
   "outputs": [],
   "source": [
    "buffer = 2e3 # [m] how much to buffer the AOI before clipping DEM \n",
    "\n",
    "site_name = 'Banner'\n",
    "site_dir = f'/Volumes/LaCie/raineyaberle/Research/PhD/SkySat-Stereo/study-sites/{site_name}'\n",
    "out_dir = f'/Volumes/LaCie/raineyaberle/Research/PhD/SkySat-Stereo/study-sites/{site_name}/refdem/'\n",
    "code_dir = '/Users/raineyaberle/Research/PhD/SnowDEMs/skysat_stereo_snow'\n",
    "\n",
    "# Import utility functions\n",
    "sys.path.append(os.path.join(code_dir, 'skysat_stereo_snow'))\n",
    "import query_refdem_utils as q\n"
   ]
  },
  {
   "cell_type": "markdown",
   "id": "2ebab79e-b370-4814-b2d0-525e0cb8c7a3",
   "metadata": {},
   "source": [
    "## Calculate image bounds and buffer"
   ]
  },
  {
   "cell_type": "code",
   "execution_count": null,
   "id": "47deef48-5df9-4131-8718-547d63255500",
   "metadata": {},
   "outputs": [],
   "source": [
    "dates = [x for x in sorted(glob.glob(os.path.join(site_dir, '20*'))) \n",
    "         if os.path.exists(os.path.join(x, 'SkySatScene'))]\n",
    "\n",
    "meta_fns = []\n",
    "for date in dates:\n",
    "    # Load metadata file names\n",
    "    fns = sorted(glob.glob(os.path.join(site_dir, date, 'SkySatScene', '*_metadata.json')))\n",
    "    meta_fns += fns\n",
    "\n",
    "# Create clipping region\n",
    "bbox, epsg_utm = q.create_bbox_from_meta(meta_fns, buffer)\n"
   ]
  },
  {
   "cell_type": "markdown",
   "id": "1289ed33-bdc2-4439-9235-96138dadfd09",
   "metadata": {},
   "source": [
    "## Initialize GEE"
   ]
  },
  {
   "cell_type": "code",
   "execution_count": null,
   "id": "0f4f6fee-7414-442b-be97-7321d9da1785",
   "metadata": {},
   "outputs": [],
   "source": [
    "try:\n",
    "    ee.Initialize()\n",
    "except:\n",
    "    ee.Authenticate()\n",
    "    ee.Intialize()"
   ]
  },
  {
   "cell_type": "markdown",
   "id": "9cc62ec6-7a20-40f2-a780-f567768fc41e",
   "metadata": {},
   "source": [
    "## Query GEE for DEM, clip, save to file"
   ]
  },
  {
   "cell_type": "code",
   "execution_count": null,
   "id": "0b849e4d-98a2-4283-9049-ebd832eb165c",
   "metadata": {},
   "outputs": [],
   "source": [
    "# Make sure output directory exists\n",
    "if not os.path.exists(out_dir):\n",
    "    os.mkdir(out_dir)\n",
    "    print('Made directory for output file:', out_dir)\n",
    "# Define output file name\n",
    "dem_fn = os.path.join(out_dir, f\"{site_name}_COPDEM_buffer{int(buffer/1e3)}km.tif\")\n",
    "# Query and download DEM\n",
    "dem_out_fn = q.query_gee_for_copdem(bbox, out_fn=dem_fn, crs=epsg_utm)"
   ]
  },
  {
   "cell_type": "markdown",
   "id": "3219f83f",
   "metadata": {},
   "source": [
    "## Optional: coregister and merge with high-resolution DEM used for coregistration"
   ]
  },
  {
   "cell_type": "code",
   "execution_count": null,
   "id": "cbef089e",
   "metadata": {},
   "outputs": [],
   "source": [
    "if site_name=='JacksonPeak':\n",
    "    coregdem_fn = os.path.join(site_dir, 'refdem', 'USGS_LPC_ID_FEMAHQ_2018_D18_merged_filtered_UTM11.tif')\n",
    "else:\n",
    "    coregdem_fn = os.path.join(site_dir, 'refdem', f\"{site_name}_REFDEM_WGS84.tif\")\n",
    "\n",
    "# Fill holes in high-res DEM\n",
    "coregdem_fill_fn = q.fill_nodata(coregdem_fn)\n",
    "\n",
    "# Coregister COPDEM to the high-res DEM\n",
    "copdem_fill_coreg_fn = q.coregister_dems(coregdem_fill_fn, dem_out_fn)\n",
    "    \n",
    "# Merge DEMs: Overlay the COPDEM with the lidar DEM\n",
    "merged_dem_fn = os.path.join(os.path.dirname(dem_out_fn), f'{site_name}_refdem_lidar_COPDEM_merged.tif')\n",
    "_ = q.merge_dems(coregdem_fill_fn, copdem_fill_coreg_fn, out_fn=merged_dem_fn)"
   ]
  }
 ],
 "metadata": {
  "kernelspec": {
   "display_name": "skysat_snow",
   "language": "python",
   "name": "python3"
  },
  "language_info": {
   "codemirror_mode": {
    "name": "ipython",
    "version": 3
   },
   "file_extension": ".py",
   "mimetype": "text/x-python",
   "name": "python",
   "nbconvert_exporter": "python",
   "pygments_lexer": "ipython3",
   "version": "3.13.5"
  }
 },
 "nbformat": 4,
 "nbformat_minor": 5
}
