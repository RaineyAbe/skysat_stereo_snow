{
 "cells": [
  {
   "cell_type": "markdown",
   "metadata": {},
   "source": [
    "# Query GEE for ERA5-Land wind data"
   ]
  },
  {
   "cell_type": "code",
   "execution_count": 1,
   "metadata": {},
   "outputs": [],
   "source": [
    "import ee\n",
    "import os\n",
    "import xdem\n",
    "import numpy as np\n",
    "import pandas as pd\n",
    "import json"
   ]
  },
  {
   "cell_type": "code",
   "execution_count": 9,
   "metadata": {},
   "outputs": [],
   "source": [
    "### Define paths in directory\n",
    "site_name = \"Banner\"\n",
    "data_dir = f'/Volumes/LaCie/raineyaberle/Research/PhD/SkySat-Stereo/study-sites/{site_name}'\n",
    "# Reference DEM for spatial querying\n",
    "if site_name=='JacksonPeak':\n",
    "    refdem_fn = os.path.join(data_dir, 'refdem', 'USGS_LPC_ID_FEMAHQ_2018_D18_merged_filtered_UTM11_filled.tif')\n",
    "else:\n",
    "    refdem_fn = os.path.join(data_dir, 'refdem', f'{site_name}_REFDEM_WGS84.tif')\n",
    "# Output file name\n",
    "out_fn = os.path.join(data_dir, f'{site_name}_dominant_wind_direction_ERA5-Land_20231001-20240501.json')"
   ]
  },
  {
   "cell_type": "code",
   "execution_count": 3,
   "metadata": {},
   "outputs": [],
   "source": [
    "### Initialize GEE\n",
    "try:\n",
    "    ee.Initialize()\n",
    "except:\n",
    "    ee.Authenticate()\n",
    "    ee.Initialize()"
   ]
  },
  {
   "cell_type": "code",
   "execution_count": null,
   "metadata": {},
   "outputs": [],
   "source": [
    "if not os.path.exists(out_fn):\n",
    "    ### Create spatial bounds\n",
    "    # Get DEM spatial bounds in lat lon\n",
    "    refdem = xdem.DEM(refdem_fn).reproject(crs='EPSG:4326')\n",
    "    bounds = refdem.bounds\n",
    "    print(bounds)\n",
    "    # Create polygon for spatial clipping\n",
    "    region = ee.Geometry.Polygon([[bounds.left, bounds.bottom], [bounds.right, bounds.bottom],\n",
    "                                [bounds.right, bounds.top], [bounds.left, bounds.top],\n",
    "                                [bounds.left, bounds.bottom]])\n",
    "\n",
    "    #### Query ERA5-Land\n",
    "    bands = ['u_component_of_wind_10m', 'v_component_of_wind_10m'] # m/s\n",
    "    date_range = ['2023-10-01', '2024-05-01']\n",
    "    era5 = (ee.ImageCollection(\"ECMWF/ERA5_LAND/DAILY_AGGR\")\n",
    "        .filterDate(date_range[0], date_range[1])\n",
    "        .filterBounds(region)\n",
    "        .select(bands))\n",
    "\n",
    "    #### Calculate wind speed and direction\n",
    "    def calculate_wind(img):\n",
    "        u = img.select('u_component_of_wind_10m')\n",
    "        v = img.select('v_component_of_wind_10m')\n",
    "        speed = u.hypot(v).rename('wind_speed')\n",
    "        direction = v.atan2(u).rename('wind_direction')  # Direction in radians\n",
    "        return img.addBands([speed, direction])\n",
    "    era5_with_wind = era5.map(calculate_wind)\n",
    "\n",
    "    #### Filter wind speeds\n",
    "    # 5 m/s = ∼minimum wind velocity for snow transport (Li and Pomeroy, 1997),\n",
    "    # but no wind speeds this fast found in ERA5-Land! Use 1 m/s for filtering\n",
    "    def mask_speeds(img):\n",
    "        return img.updateMask(img.select('wind_speed').gte(1))\n",
    "    filtered_era5 = era5_with_wind.map(mask_speeds)\n",
    "\n",
    "    ### Calculate median wind direction\n",
    "    # Upsample ERA5 data to finer resolution (~1 km) to increase the number of pixels sampled\n",
    "    def upsample(img):\n",
    "        return img.resample('bilinear').reproject(crs='EPSG:4326', scale=100)\n",
    "    upsampled_era5 = filtered_era5.map(upsample)\n",
    "\n",
    "    def reduce_to_median(img):\n",
    "        stats = img.reduceRegion(\n",
    "            reducer=ee.Reducer.median(),\n",
    "            geometry=region,\n",
    "            scale=100,\n",
    "            bestEffort=True\n",
    "        )\n",
    "        return ee.Feature(None, stats)\n",
    "    reduced_collection = upsampled_era5.map(reduce_to_median)\n",
    "\n",
    "    ### Convert to pandas DataFrame\n",
    "    # Convert to a list of dictionaries for analysis\n",
    "    result_list = reduced_collection.getInfo()['features']\n",
    "    df = pd.DataFrame([feature['properties'] for feature in result_list])\n",
    "    # Post-process: Calculate the median direction weighted by speed\n",
    "    if not df.empty:\n",
    "        wind_speeds = df['wind_speed'].dropna()\n",
    "        wind_directions = df['wind_direction'].dropna()    \n",
    "        if not wind_speeds.empty and not wind_directions.empty:\n",
    "            sin_mean = np.average(np.sin(wind_directions), weights=wind_speeds)\n",
    "            cos_mean = np.average(np.cos(wind_directions), weights=wind_speeds)\n",
    "            dominant_direction = np.arctan2(sin_mean, cos_mean) * (180 / np.pi)  # Convert to degrees\n",
    "            dominant_direction = (dominant_direction + 360) % 360  # Normalize to [0, 360]\n",
    "            print(f\"Dominant wind direction: {dominant_direction:.2f} degrees\")\n",
    "        else:\n",
    "            print(\"No valid wind data available.\")\n",
    "    else:\n",
    "        print(\"No data found for the specified area and time.\")\n",
    "        \n",
    "    # Create dictionary of results\n",
    "    results_dict = {'site_name': site_name,\n",
    "                    'date_range': date_range,\n",
    "                    'dominant_wind_direction_degrees': str(dominant_direction)}\n",
    "    \n",
    "    # Save to file\n",
    "    with open(out_fn, 'w') as f:\n",
    "        json.dump(results_dict, f)\n",
    "    print('Dominant wind direction saved to file:', out_fn)\n",
    "\n",
    "else:\n",
    "    print('Dominant wind direction already exists in file, skipping.')"
   ]
  },
  {
   "cell_type": "code",
   "execution_count": null,
   "metadata": {},
   "outputs": [],
   "source": []
  }
 ],
 "metadata": {
  "kernelspec": {
   "display_name": "skysat_stereo",
   "language": "python",
   "name": "python3"
  },
  "language_info": {
   "codemirror_mode": {
    "name": "ipython",
    "version": 3
   },
   "file_extension": ".py",
   "mimetype": "text/x-python",
   "name": "python",
   "nbconvert_exporter": "python",
   "pygments_lexer": "ipython3",
   "version": "3.11.6"
  }
 },
 "nbformat": 4,
 "nbformat_minor": 2
}
