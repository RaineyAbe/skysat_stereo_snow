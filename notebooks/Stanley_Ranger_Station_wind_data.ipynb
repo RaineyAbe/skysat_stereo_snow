{
 "cells": [
  {
   "cell_type": "markdown",
   "metadata": {},
   "source": [
    "# Analyze Stanley Ranger station weather data"
   ]
  },
  {
   "cell_type": "code",
   "execution_count": 1,
   "metadata": {},
   "outputs": [],
   "source": [
    "import os\n",
    "import pandas as pd\n",
    "import numpy as np"
   ]
  },
  {
   "cell_type": "code",
   "execution_count": 19,
   "metadata": {},
   "outputs": [
    {
     "data": {
      "text/plain": [
       "205.34757393654706"
      ]
     },
     "execution_count": 19,
     "metadata": {},
     "output_type": "execute_result"
    }
   ],
   "source": [
    "fn = '/Volumes/LaCie/raineyaberle/Research/PhD/SkySat-Stereo/Stanley_Ranger_Station_wind.2024-05-01.csv'\n",
    "df = pd.read_csv(fn, header=10)\n",
    "df = df.iloc[1:, :]\n",
    "df['Date_Time'] = pd.to_datetime(df['Date_Time'])\n",
    "df['wind_speed_set_1'] = df['wind_speed_set_1'].astype(float)\n",
    "df['wind_direction_set_1'] = df['wind_direction_set_1'].astype(float)\n",
    "\n",
    "# Subset to speeds over 5 m/s\n",
    "df.loc[df['wind_speed_set_1'] < 5, ['wind_speed_set_1', 'wind_direction_set_1']] = np.nan\n",
    "df = df.loc[~np.isnan(df['wind_speed_set_1']) & ~np.isnan(df['wind_direction_set_1'])]\n",
    "\n",
    "# Calclate dominant wind direction\n",
    "wind_dir = np.average(df['wind_direction_set_1'], weights=df['wind_speed_set_1'])\n",
    "wind_dir"
   ]
  }
 ],
 "metadata": {
  "kernelspec": {
   "display_name": "skysat_stereo",
   "language": "python",
   "name": "python3"
  },
  "language_info": {
   "codemirror_mode": {
    "name": "ipython",
    "version": 3
   },
   "file_extension": ".py",
   "mimetype": "text/x-python",
   "name": "python",
   "nbconvert_exporter": "python",
   "pygments_lexer": "ipython3",
   "version": "3.11.6"
  }
 },
 "nbformat": 4,
 "nbformat_minor": 2
}
