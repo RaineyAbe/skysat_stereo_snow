{
 "cells": [
  {
   "cell_type": "code",
   "execution_count": 1,
   "id": "c6eef017",
   "metadata": {},
   "outputs": [],
   "source": [
    "import os\n",
    "import glob\n",
    "import numpy as np\n",
    "from pyproj import Transformer\n",
    "from scipy.spatial.transform import Rotation as R"
   ]
  },
  {
   "cell_type": "code",
   "execution_count": 2,
   "id": "cab472dc",
   "metadata": {},
   "outputs": [
    {
     "name": "stdout",
     "output_type": "stream",
     "text": [
      "Found 76 images\n",
      "Found 76 cameras\n",
      "Found 76 GCPs\n"
     ]
    }
   ],
   "source": [
    "out_fol = \"/Volumes/LaCie/raineyaberle/Research/PhD/SkySat-Stereo/study-sites/ID-MCS/20240420/proc_out\"\n",
    "im_list = sorted(glob.glob(os.path.join(out_fol, '..', 'SkySatScene_TOAR', '*_analytic.tif')))\n",
    "cam_list = sorted(glob.glob(os.path.join(out_fol, 'cam_gen', '*.tsai')))\n",
    "gcp_list = sorted(glob.glob(os.path.join(out_fol, 'cam_gen', '*.gcp')))\n",
    "cam_gen_fol = os.path.join(out_fol, 'cam_gen')\n",
    "\n",
    "print(f'Found {len(im_list)} images')\n",
    "print(f'Found {len(cam_list)} cameras')\n",
    "print(f'Found {len(gcp_list)} GCPs')\n"
   ]
  },
  {
   "cell_type": "code",
   "execution_count": null,
   "id": "7e1f7fbc",
   "metadata": {},
   "outputs": [],
   "source": [
    "### CONVERT TSAI FILES FROM ASP TO A SINGLE TXT FILE FOR METASHAPE IMPORT ###\n",
    "\n",
    "def parse_tsai(tsai_path):\n",
    "    with open(tsai_path, 'r') as f:\n",
    "        lines = [line.strip() for line in f.readlines()]\n",
    "    \n",
    "    C_line = next(l for l in lines if l.startswith('C ='))\n",
    "    R_line = next(l for l in lines if l.startswith('R ='))\n",
    "\n",
    "    C = np.fromstring(C_line.split('=')[1], sep=' ')\n",
    "    R_flat = np.fromstring(R_line.split('=')[1], sep=' ')\n",
    "    R_matrix = R_flat.reshape((3, 3))\n",
    "\n",
    "    return C, R_matrix\n",
    "\n",
    "def ecef_to_geodetic(C):\n",
    "    transformer = Transformer.from_crs(\"epsg:4978\", \"epsg:4326\", always_xy=True)\n",
    "    lon, lat, h = transformer.transform(C[0], C[1], C[2])\n",
    "    return lon, lat, h\n",
    "\n",
    "def rotation_matrix_to_rpy(R_cam):\n",
    "    R_world_to_cam = R_cam.T  # Invert ASP matrix\n",
    "    r = R.from_matrix(R_world_to_cam)\n",
    "    roll, pitch, yaw = r.as_euler('xyz', degrees=True)\n",
    "    return roll, pitch, yaw\n",
    "\n",
    "def convert_tsai_to_metashape(tsai_files, im_list, output_txt):\n",
    "    im_list_base = [os.path.basename(x) for x in im_list]\n",
    "\n",
    "    with open(output_txt, 'w') as f_out:\n",
    "        # Write header\n",
    "        f_out.write(\"# image\\tlatitude\\tlongitude\\theight\\troll\\tpitch\\tyaw\\n\")\n",
    "\n",
    "        for tsai_path in tsai_files:\n",
    "            cam_name = os.path.basename(tsai_path)\n",
    "            stem = cam_name.replace('_rpc.tsai', '')\n",
    "\n",
    "            # Match image by base name\n",
    "            matches = [x for x in im_list_base if os.path.splitext(x)[0] == stem]\n",
    "            if not matches:\n",
    "                print(f\"Warning: No image match found for {cam_name}\")\n",
    "                continue\n",
    "\n",
    "            image_name = matches[0]\n",
    "            try:\n",
    "                C, R_cam = parse_tsai(tsai_path)\n",
    "                lat, lon, h = ecef_to_geodetic(C)\n",
    "                roll, pitch, yaw = rotation_matrix_to_rpy(R_cam)\n",
    "                f_out.write(f\"{image_name}\\t{lat:.8f}\\t{lon:.8f}\\t{h:.3f}\\t{roll:.2f}\\t{pitch:.2f}\\t{yaw:.2f}\\n\")\n",
    "            except Exception as e:\n",
    "                print(f\"Error processing {tsai_path}: {e}\")\n",
    "\n",
    "cams_out = os.path.join(cam_gen_fol, 'refined_cameras_list.txt')\n",
    "convert_tsai_to_metashape(cam_list, im_list, cams_out)"
   ]
  },
  {
   "cell_type": "code",
   "execution_count": null,
   "id": "77bcb56b",
   "metadata": {},
   "outputs": [],
   "source": [
    "import os\n",
    "\n",
    "def asp_to_metashape_gcps(gcp_files, output_txt):\n",
    "    marker_counter = 0 \n",
    "\n",
    "    with open(output_txt, 'w') as out:\n",
    "        # Write header\n",
    "        out.write(\"# marker_label\\timage\\tx_pixel\\ty_pixel\\tx_coord\\ty_coord\\tz_coord\\n\")\n",
    "\n",
    "        for gcp_file in gcp_files:\n",
    "            with open(gcp_file, 'r') as f:\n",
    "                lines = f.readlines()\n",
    "\n",
    "            for line in lines:\n",
    "                parts = line.strip().split()\n",
    "\n",
    "                # ASP format: ID lat lon height image_path col row\n",
    "                lat = float(parts[1])\n",
    "                lon = float(parts[2])\n",
    "                height = float(parts[3])\n",
    "                image_path = parts[7]\n",
    "                col = float(parts[8])\n",
    "                row = float(parts[9])\n",
    "\n",
    "                marker_label = f\"GCP_{marker_counter:004d}\" # zero-padded for easy sorting\n",
    "                image_label = os.path.basename(image_path)\n",
    "\n",
    "                out.write(f\"{marker_label}\\t{image_label}\\t{col:.2f}\\t{row:.2f}\\t{lon:.8f}\\t{lat:.8f}\\t{height:.3f}\\n\")\n",
    "                marker_counter += 1\n",
    "\n",
    "gcp_out = os.path.join(cam_gen_fol, 'gcp_list.txt')\n",
    "asp_to_metashape_gcps(gcp_list, gcp_out)"
   ]
  },
  {
   "cell_type": "code",
   "execution_count": 3,
   "id": "f842bd0d",
   "metadata": {},
   "outputs": [
    {
     "name": "stdout",
     "output_type": "stream",
     "text": [
      "lat: 45.45302148, lon: -113.25885394, h: 498707.17\n"
     ]
    }
   ],
   "source": [
    "C = [-1907965.831, -4439019.286, 4878224.448]\n",
    "transformer = Transformer.from_crs(\"epsg:4978\", \"epsg:4326\", always_xy=True)\n",
    "lon, lat, h = transformer.transform(C[0], C[1], C[2])\n",
    "print(f\"lat: {lat:.8f}, lon: {lon:.8f}, h: {h:.2f}\")"
   ]
  }
 ],
 "metadata": {
  "kernelspec": {
   "display_name": "skysat_snow",
   "language": "python",
   "name": "python3"
  },
  "language_info": {
   "codemirror_mode": {
    "name": "ipython",
    "version": 3
   },
   "file_extension": ".py",
   "mimetype": "text/x-python",
   "name": "python",
   "nbconvert_exporter": "python",
   "pygments_lexer": "ipython3",
   "version": "3.13.5"
  }
 },
 "nbformat": 4,
 "nbformat_minor": 5
}
