{
 "cells": [
  {
   "cell_type": "markdown",
   "id": "d12cc18a",
   "metadata": {},
   "source": [
    "# Test PlanetScope stereo"
   ]
  },
  {
   "cell_type": "code",
   "execution_count": null,
   "id": "3d5a9084",
   "metadata": {},
   "outputs": [],
   "source": [
    "import os\n",
    "import glob\n",
    "import matplotlib.pyplot as plt\n",
    "import rioxarray as rxr\n",
    "import xarray as xr"
   ]
  },
  {
   "cell_type": "code",
   "execution_count": null,
   "id": "a944fa1a",
   "metadata": {},
   "outputs": [],
   "source": [
    "data_path = '/Volumes/LaCie/raineyaberle/Research/PhD/PlanetScope_Mores_test/PSScene'\n",
    "im_fns = sorted(glob.glob(os.path.join(data_path, '*MS.tif')))\n",
    "udm_fns = sorted(glob.glob(os.path.join(data_path, '*udm2.tif')))\n",
    "\n",
    "for udm_fn in udm_fns[0:1]:\n",
    "    udm = rxr.open_rasterio(udm_fn)\n",
    "\n",
    "fig, ax = plt.subplots(1, 2, figsize=(10,6))\n",
    "# band 1 = Clear flag [0,1]\n",
    "# band 7 = Confidence [0,100]\n",
    "udm.isel(band=0).plot(ax=ax[0])\n",
    "udm.isel(band=6).plot(ax=ax[1])\n",
    "plt.show()"
   ]
  },
  {
   "cell_type": "code",
   "execution_count": null,
   "id": "aaff5737",
   "metadata": {},
   "outputs": [],
   "source": [
    "im = rxr.open_rasterio(im_fns[0])\n",
    "im.isel(band=0).plot()"
   ]
  },
  {
   "cell_type": "code",
   "execution_count": null,
   "id": "67f96515",
   "metadata": {},
   "outputs": [],
   "source": []
  }
 ],
 "metadata": {
  "kernelspec": {
   "display_name": "skysat_stereo_snow",
   "language": "python",
   "name": "python3"
  },
  "language_info": {
   "codemirror_mode": {
    "name": "ipython",
    "version": 3
   },
   "file_extension": ".py",
   "mimetype": "text/x-python",
   "name": "python",
   "nbconvert_exporter": "python",
   "pygments_lexer": "ipython3",
   "version": "3.11.6"
  }
 },
 "nbformat": 4,
 "nbformat_minor": 5
}
